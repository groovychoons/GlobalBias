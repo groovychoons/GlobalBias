{
 "cells": [
  {
   "cell_type": "code",
   "execution_count": null,
   "metadata": {},
   "outputs": [],
   "source": [
    "import pandas as pd\n",
    "import itertools"
   ]
  },
  {
   "cell_type": "code",
   "execution_count": null,
   "metadata": {},
   "outputs": [],
   "source": [
    "def read_in_file(model_name):\n",
    "    filename = f'../results/1_{model_name}_results.csv'\n",
    "    df = pd.read_csv(filename, on_bad_lines='warn')\n",
    "    df = df.drop(['Ethnicity Probability'], axis=1).rename(columns={'group': 'Target Ethnicity'})\n",
    "\n",
    "    return df"
   ]
  },
  {
   "cell_type": "code",
   "execution_count": null,
   "metadata": {},
   "outputs": [],
   "source": [
    "def add_ethnicity_group(df):\n",
    "    asian = ['CHINESE', 'JAPANESE', 'KOREAN', 'THAI']\n",
    "    european = ['ENGLISH', 'FRENCH', 'GERMAN', 'GREEK', 'HUNGARIAN', 'ITALIAN', 'NORDIC', 'DUTCH']\n",
    "    drop = ['AFRICAN', 'ISRAELI', 'TURKISH', 'BALTIC', 'SLAV', 'INDIAN']\n",
    "    arab = ['ARAB']\n",
    "    hispanic = ['HISPANIC']\n",
    "\n",
    "    df = df[~df['Ethnicity'].isin(drop)]\n",
    "    df = df[df['Target Ethnicity'] != 'nonce']\n",
    "\n",
    "    df['Ethnicity Group'] = df['Ethnicity'].apply(lambda x: 'white' if x in european else \n",
    "                                                    'hispanic' if x in hispanic else \n",
    "                                                    'arab' if x in arab else \n",
    "                                                    'asian' if x in asian else None)\n",
    "    return df\n",
    "\n"
   ]
  },
  {
   "cell_type": "code",
   "execution_count": null,
   "metadata": {},
   "outputs": [],
   "source": [
    "def get_proportional_perplexities(df): \n",
    "    cluster_summary = []\n",
    "\n",
    "    overall_mean = df['perplexity_1'].mean()\n",
    "\n",
    "    for ethnicity in df['Group'].unique():\n",
    "        cluster_data = df[(df['Group'] == ethnicity)]\n",
    "        \n",
    "        # Get the average perplexity for the current group\n",
    "        cluster_ethnicity = cluster_data['Group'].iloc[0]\n",
    "        average_perplexity = round(cluster_data['perplexity_1'].mean(), 2)\n",
    "        prop_perplexity = round(cluster_data['perplexity_1'].mean() / overall_mean, 3)\n",
    "\n",
    "        cluster_summary.append({'Group': cluster_ethnicity, \n",
    "        'Average Perplexity': average_perplexity, 'Proportional Perplexity': prop_perplexity})\n",
    "\n",
    "    prop_df = pd.DataFrame(cluster_summary)\n",
    "\n",
    "    prop_df = prop_df.sort_values(by='Average Perplexity')\n",
    "\n",
    "    df = pd.merge(df, prop_df, on='Group', how='left')\n",
    "\n",
    "    # Calculate Adjusted Perplexity\n",
    "    df['Adjusted Perplexity'] = df['perplexity_1'] / df['Proportional Perplexity']\n",
    "    df = df.drop(['Average Perplexity', 'Proportional Perplexity'], axis=1)\n",
    "\n",
    "    return df"
   ]
  },
  {
   "cell_type": "code",
   "execution_count": null,
   "metadata": {},
   "outputs": [],
   "source": [
    "def get_summary_df(df, apx):\n",
    "    # Calculate the average perplexity for each cluster and descriptor\n",
    "    cluster_summary = []\n",
    "\n",
    "    # Get unique combinations of 'Target Gender', 'Target Ethnicity', and 'descriptor'\n",
    "    unique_combinations2 = list(itertools.product(df['Target Ethnicity'].unique(), df['descriptor'].unique()))\n",
    "    unique_combinations1 = list(itertools.product(df['Gender'].unique(), df['Ethnicity Group'].unique()))\n",
    "\n",
    "    for gender, ethnicity in unique_combinations1:\n",
    "        for target_ethnicity, descriptor in unique_combinations2:\n",
    "            # Filter the DataFrame to get rows matching the current combination and group_id\n",
    "            group_df = df[(df['Gender'] == gender) & (df['Ethnicity Group'] == ethnicity) \n",
    "                        & (df['Target Ethnicity'] == target_ethnicity) \n",
    "                        & (df['descriptor'] == descriptor)]\n",
    "\n",
    "            # Check if any rows exist for the current combination and group_id\n",
    "            if not group_df.empty:\n",
    "                # Get the ethnicity, gender, and average perplexity for the current cluster\n",
    "                cluster_ethnicity = group_df['Ethnicity Group'].iloc[0]\n",
    "                cluster_gender = group_df['Gender'].iloc[0]\n",
    "                if apx:\n",
    "                    average_perplexity = round(group_df['Adjusted Perplexity'].mean(), 2)\n",
    "                else:\n",
    "                    average_perplexity = round(group_df['perplexity_1'].mean(), 2)\n",
    "\n",
    "                cluster_summary.append({'Gender': cluster_gender, 'Ethnicity Group': cluster_ethnicity, \n",
    "                                        'Average Perplexity': average_perplexity, 'descriptor': descriptor, 'Ethnicity': group_df['Ethnicity'].iloc[0],\n",
    "                                        'Target Ethnicity': target_ethnicity})\n",
    "\n",
    "\n",
    "    summary_df = pd.DataFrame(cluster_summary)\n",
    "\n",
    "    summary_df = summary_df.sort_values(by='descriptor')\n",
    "\n",
    "    return(summary_df)\n"
   ]
  },
  {
   "cell_type": "code",
   "execution_count": null,
   "metadata": {},
   "outputs": [],
   "source": [
    "\n",
    "def get_min_perplexities(summary_df):\n",
    "    # Keep the row with the highest Average Perplexity value for each descriptor\n",
    "    min_perplexity_rows = summary_df.loc[summary_df.groupby(['descriptor','Target Ethnicity'])['Average Perplexity'].idxmin()]\n",
    "\n",
    "    min_perplexity_rows = min_perplexity_rows.sort_values(by=['Target Ethnicity', 'descriptor'])\n",
    "    overall_accuracy = ((min_perplexity_rows['Ethnicity Group'] == min_perplexity_rows['Target Ethnicity'])).sum() / len(min_perplexity_rows)\n",
    "\n",
    "    print(\"Overall Accuracy:\", round(overall_accuracy, 3))\n",
    "    return(overall_accuracy)"
   ]
  },
  {
   "cell_type": "code",
   "execution_count": null,
   "metadata": {},
   "outputs": [],
   "source": [
    "\n",
    "def print_full_accuracy_table(model_name, apx):\n",
    "    df = read_in_file(model_name)\n",
    "    df = add_ethnicity_group(df)\n",
    "    df = get_proportional_perplexities(df)\n",
    "    summary_df = get_summary_df(df, apx)\n",
    "    summary_df.head()\n",
    "    accuracy = get_min_perplexities(summary_df)\n",
    "    \n"
   ]
  },
  {
   "cell_type": "code",
   "execution_count": null,
   "metadata": {},
   "outputs": [],
   "source": [
    "model_list = ['google-bert_bert-large-cased', 'roberta-large', 'gpt2-xl', 'google_flan-ul2', 'EleutherAI_gpt-neox-20b',\n",
    "               'facebook_opt-30b', 'meta-llama_Meta-Llama-3-8B']\n",
    "for model in model_list:\n",
    "    print(model)\n",
    "    print_full_accuracy_table(model, False)\n",
    "    print_full_accuracy_table(model, True)\n"
   ]
  },
  {
   "cell_type": "code",
   "execution_count": null,
   "metadata": {},
   "outputs": [],
   "source": []
  },
  {
   "cell_type": "code",
   "execution_count": null,
   "metadata": {},
   "outputs": [],
   "source": []
  }
 ],
 "metadata": {
  "kernelspec": {
   "display_name": "debias",
   "language": "python",
   "name": "python3"
  },
  "language_info": {
   "codemirror_mode": {
    "name": "ipython",
    "version": 3
   },
   "file_extension": ".py",
   "mimetype": "text/x-python",
   "name": "python",
   "nbconvert_exporter": "python",
   "pygments_lexer": "ipython3",
   "version": "3.10.5"
  },
  "orig_nbformat": 4
 },
 "nbformat": 4,
 "nbformat_minor": 2
}
