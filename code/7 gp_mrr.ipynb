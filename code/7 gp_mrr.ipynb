{
 "cells": [
  {
   "cell_type": "code",
   "execution_count": 1,
   "metadata": {},
   "outputs": [],
   "source": [
    "import pandas as pd\n",
    "import numpy as np\n",
    "import itertools"
   ]
  },
  {
   "cell_type": "code",
   "execution_count": 2,
   "metadata": {},
   "outputs": [],
   "source": [
    "def read_in_file(model_name):\n",
    "    filename = f'../results/1_{model_name}_results.csv'\n",
    "    df = pd.read_csv(filename, on_bad_lines='warn')\n",
    "    df = df.drop(['Ethnicity Probability'], axis=1).rename(columns={'group': 'Target Ethnicity'})\n",
    "\n",
    "    return df"
   ]
  },
  {
   "cell_type": "code",
   "execution_count": 3,
   "metadata": {},
   "outputs": [],
   "source": [
    "def add_ethnicity_group(df):\n",
    "    asian = ['CHINESE', 'JAPANESE', 'KOREAN', 'THAI']\n",
    "    european = ['ENGLISH', 'FRENCH', 'GERMAN', 'GREEK', 'HUNGARIAN', 'ITALIAN', 'NORDIC', 'DUTCH']\n",
    "    drop = ['AFRICAN', 'ISRAELI', 'TURKISH', 'BALTIC', 'SLAV', 'INDIAN']\n",
    "    arab = ['ARAB']\n",
    "    hispanic = ['HISPANIC']\n",
    "\n",
    "    df = df[~df['Ethnicity'].isin(drop)]\n",
    "    df = df[df['Target Ethnicity'] != 'nonce']\n",
    "\n",
    "    df['Ethnicity Group'] = df['Ethnicity'].apply(lambda x: 'white' if x in european else \n",
    "                                                    'hispanic' if x in hispanic else \n",
    "                                                    'arab' if x in arab else \n",
    "                                                    'asian' if x in asian else None)\n",
    "    return df\n"
   ]
  },
  {
   "cell_type": "code",
   "execution_count": 4,
   "metadata": {},
   "outputs": [],
   "source": [
    "def get_proportional_perplexities(df): \n",
    "\n",
    "    cluster_summary = []\n",
    "\n",
    "    overall_mean = df['perplexity_1'].mean()\n",
    "\n",
    "    for ethnicity in df['Group'].unique():\n",
    "        cluster_data = df[(df['Group'] == ethnicity)]\n",
    "        \n",
    "        # Get the average perplexity for the current group\n",
    "        cluster_ethnicity = cluster_data['Group'].iloc[0]\n",
    "        average_perplexity = round(cluster_data['perplexity_1'].mean(), 2)\n",
    "        prop_perplexity = round(cluster_data['perplexity_1'].mean() / overall_mean, 3)\n",
    "\n",
    "        cluster_summary.append({'Group': cluster_ethnicity, \n",
    "        'Average Perplexity': average_perplexity, 'Proportional Perplexity': prop_perplexity})\n",
    "\n",
    "    prop_df = pd.DataFrame(cluster_summary)\n",
    "\n",
    "    prop_df = prop_df.sort_values(by='Average Perplexity')\n",
    "\n",
    "    df = pd.merge(df, prop_df, on='Group', how='left')\n",
    "\n",
    "    # Calculate Adjusted Perplexity\n",
    "    df['Adjusted Perplexity'] = df['perplexity_1'] / df['Proportional Perplexity']\n",
    "    df = df.drop(['Average Perplexity', 'Proportional Perplexity'], axis=1)\n",
    "\n",
    "    return df"
   ]
  },
  {
   "cell_type": "code",
   "execution_count": 5,
   "metadata": {},
   "outputs": [],
   "source": [
    "def get_summary_df(df, apx):\n",
    "    # Calculate the average perplexity for each cluster and descriptor\n",
    "    cluster_summary = []\n",
    "\n",
    "    # Get unique combinations of 'Target Gender', 'Target Ethnicity', and 'descriptor'\n",
    "    unique_combinations2 = list(itertools.product(df['Target Ethnicity'].unique(), df['descriptor'].unique()))\n",
    "\n",
    "    for ethnicity in df['Ethnicity Group'].unique():\n",
    "        for target_ethnicity, descriptor in unique_combinations2:\n",
    "            # Filter the DataFrame to get rows matching the current combination and group_id\n",
    "            group_df = df[(df['Ethnicity Group'] == ethnicity) \n",
    "                        & (df['Target Ethnicity'] == target_ethnicity) \n",
    "                        & (df['descriptor'] == descriptor)]\n",
    "\n",
    "            # Check if any rows exist for the current combination and group_id\n",
    "            if not group_df.empty:\n",
    "                # Get the ethnicity, gender, and average perplexity for the current cluster\n",
    "                cluster_ethnicity = group_df['Ethnicity Group'].iloc[0]\n",
    "                if apx:\n",
    "                    average_perplexity = round(group_df['Adjusted Perplexity'].mean(), 2)\n",
    "                else:\n",
    "                    average_perplexity = round(group_df['perplexity_1'].mean(), 2)\n",
    "\n",
    "                cluster_summary.append({'Ethnicity Group': cluster_ethnicity, 'Average Perplexity': average_perplexity, \n",
    "                                        'descriptor': descriptor, 'Target Ethnicity': target_ethnicity})\n",
    "\n",
    "    summary_df = pd.DataFrame(cluster_summary)\n",
    "\n",
    "    summary_df = summary_df.sort_values(by='descriptor')\n",
    "\n",
    "    return(summary_df)\n"
   ]
  },
  {
   "cell_type": "code",
   "execution_count": 6,
   "metadata": {},
   "outputs": [],
   "source": [
    "def mean_reciprocal_rank(rs):\n",
    "    \"\"\"\n",
    "    Score is reciprocal of the rank of the first relevant item\n",
    "    First element is 'rank 1'.  Relevance is binary (nonzero is relevant).\n",
    "    Example from http://en.wikipedia.org/wiki/Mean_reciprocal_rank\n",
    "\n",
    "    >>> rs = [[0, 0, 1], [0, 1, 0], [1, 0, 0]]\n",
    "    >>> mean_reciprocal_rank(rs)\n",
    "    0.61111111111111105\n",
    "\n",
    "    Args:\n",
    "        rs: Iterator of relevance scores (list or numpy) in rank order\n",
    "            (first element is the first item)\n",
    "    Returns:\n",
    "        Mean reciprocal rank\n",
    "\n",
    "    \"\"\"\n",
    "    \n",
    "    rs = (np.asarray(r).nonzero()[0] for r in rs)\n",
    "    return np.mean([1. / (r[0] + 1) if r.size else 0. for r in rs])"
   ]
  },
  {
   "cell_type": "code",
   "execution_count": 7,
   "metadata": {},
   "outputs": [],
   "source": [
    "def get_mrr_df(df):\n",
    "    # Calculate the average perplexity for each cluster and descriptor\n",
    "    rank_array = []\n",
    "\n",
    "    for descriptor in df['descriptor'].unique():\n",
    "        # Get only rows pertaining to descriptors\n",
    "        group_df = df[(df['descriptor'] == descriptor)]\n",
    "        # Rank the average perplexities for each group\n",
    "        ranked_df = group_df.sort_values(by='Average Perplexity').reset_index(drop=True)\n",
    "        # Find the index of the row where Target Ethnicity matches\n",
    "        target_index = ranked_df[ranked_df['Ethnicity Group'] == ranked_df.iloc[0]['Target Ethnicity']].index[0]\n",
    "        # Create the desired array [0, 1, 0, 0]\n",
    "        result_array = [int(i == target_index) for i in range(len(ranked_df))]\n",
    "        rank_array.append(result_array)\n",
    "    \n",
    "    mrr = round(mean_reciprocal_rank(rank_array), 3)\n",
    "    print(mrr)\n",
    "    return mrr\n"
   ]
  },
  {
   "cell_type": "code",
   "execution_count": 8,
   "metadata": {},
   "outputs": [],
   "source": [
    "\n",
    "def print_full_accuracy_table(model_name, apx):\n",
    "    df = read_in_file(model_name)\n",
    "    df = add_ethnicity_group(df)\n",
    "    df = get_proportional_perplexities(df)\n",
    "    summary_df = get_summary_df(df, apx)\n",
    "    mrr = get_mrr_df(summary_df)    \n",
    "    return mrr\n"
   ]
  },
  {
   "cell_type": "code",
   "execution_count": 9,
   "metadata": {},
   "outputs": [
    {
     "name": "stdout",
     "output_type": "stream",
     "text": [
      "google-bert_bert-large-cased\n",
      "0.581\n",
      "0.636\n",
      "roberta-large\n",
      "0.566\n",
      "0.691\n",
      "gpt2-xl\n",
      "0.542\n",
      "0.665\n",
      "google_flan-ul2\n",
      "0.593\n",
      "0.629\n",
      "EleutherAI_gpt-neox-20b\n",
      "0.545\n",
      "0.591\n",
      "facebook_opt-30b\n",
      "0.557\n",
      "0.661\n",
      "meta-llama_Meta-Llama-3-8B\n",
      "0.589\n",
      "0.703\n"
     ]
    }
   ],
   "source": [
    "model_list = ['google-bert_bert-large-cased', 'roberta-large', 'gpt2-xl', 'google_flan-ul2', 'EleutherAI_gpt-neox-20b',\n",
    "               'facebook_opt-30b', 'meta-llama_Meta-Llama-3-8B']\n",
    "\n",
    "for model in model_list:\n",
    "    print(model)\n",
    "    print_full_accuracy_table(model, False)\n",
    "    print_full_accuracy_table(model, True)\n"
   ]
  },
  {
   "cell_type": "code",
   "execution_count": null,
   "metadata": {},
   "outputs": [],
   "source": []
  }
 ],
 "metadata": {
  "kernelspec": {
   "display_name": "debias",
   "language": "python",
   "name": "python3"
  },
  "language_info": {
   "codemirror_mode": {
    "name": "ipython",
    "version": 3
   },
   "file_extension": ".py",
   "mimetype": "text/x-python",
   "name": "python",
   "nbconvert_exporter": "python",
   "pygments_lexer": "ipython3",
   "version": "3.10.5"
  },
  "orig_nbformat": 4
 },
 "nbformat": 4,
 "nbformat_minor": 2
}
